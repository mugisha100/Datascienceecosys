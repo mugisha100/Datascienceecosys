{
 "cells": [
  {
   "cell_type": "markdown",
   "id": "d322a683-ce6a-43e4-b0d0-d3463883e261",
   "metadata": {},
   "source": [
    "# Data Science Tools and Ecosystem"
   ]
  },
  {
   "cell_type": "markdown",
   "id": "f51997a3-90a4-47a9-86c9-438b9a37d28d",
   "metadata": {},
   "source": [
    "## In this notebook, Data Science tools and Ecosystem are summarised"
   ]
  },
  {
   "cell_type": "markdown",
   "id": "994c68ca-02c5-4b79-adf2-1c98f19df718",
   "metadata": {},
   "source": [
    "**Objiectives**\n",
    "- List data science libraries\n",
    "- List data science languages\n",
    "- Table of data science tools\n"
   ]
  },
  {
   "cell_type": "markdown",
   "id": "ff5dd62e-2e29-447b-a459-4413bd5577d6",
   "metadata": {},
   "source": [
    "## Some of the popular languages that Data Scientists use are:\n",
    "1. Python\n",
    "2. R\n",
    "3. Sql "
   ]
  },
  {
   "cell_type": "markdown",
   "id": "1892d268-79bc-4b92-8fbb-180fbe5474fe",
   "metadata": {},
   "source": [
    "Some of the commonly used libraries used by Data Scientists are:\n",
    "1. Scikit-learn\n",
    "2. Pandas\n",
    "3. Numpy"
   ]
  },
  {
   "cell_type": "markdown",
   "id": "2a6312c7-dc3c-4db9-93a8-4c549b602bde",
   "metadata": {},
   "source": [
    "| Data Science Tools |\n",
    "|--------------------|\n",
    "| Rstudio |\n",
    "| Tenseflow |\n",
    "| Apache Spark |"
   ]
  },
  {
   "cell_type": "markdown",
   "id": "06df5808-a4eb-4735-b68f-e08d3ca5ba80",
   "metadata": {},
   "source": [
    "### Below are a few examples of evaluating arithmetic expressions in python"
   ]
  },
  {
   "cell_type": "code",
   "execution_count": 1,
   "id": "87ad9587-a12a-4b35-82c7-e481d645b87f",
   "metadata": {},
   "outputs": [
    {
     "data": {
      "text/plain": [
       "17"
      ]
     },
     "execution_count": 1,
     "metadata": {},
     "output_type": "execute_result"
    }
   ],
   "source": [
    "# This is a simple arithmetic expresion to multiply then add integers\n",
    "(3*4)+5"
   ]
  },
  {
   "cell_type": "code",
   "execution_count": 2,
   "id": "66046fe7-ae0f-4ac6-80c7-cdd958142e64",
   "metadata": {},
   "outputs": [
    {
     "data": {
      "text/plain": [
       "3.3333333333333335"
      ]
     },
     "execution_count": 2,
     "metadata": {},
     "output_type": "execute_result"
    }
   ],
   "source": [
    "# This will convert 200 minutes to hours by dividing by 60\n",
    "200/60"
   ]
  },
  {
   "cell_type": "code",
   "execution_count": null,
   "id": "c8b21691-97fa-4a51-8c34-a918a557a4ff",
   "metadata": {},
   "outputs": [],
   "source": []
  }
 ],
 "metadata": {
  "kernelspec": {
   "display_name": "anaconda-2022.05-py39",
   "language": "python",
   "name": "conda-env-anaconda-2022.05-py39-py"
  },
  "language_info": {
   "codemirror_mode": {
    "name": "ipython",
    "version": 3
   },
   "file_extension": ".py",
   "mimetype": "text/x-python",
   "name": "python",
   "nbconvert_exporter": "python",
   "pygments_lexer": "ipython3",
   "version": "3.9.12"
  }
 },
 "nbformat": 4,
 "nbformat_minor": 5
}
